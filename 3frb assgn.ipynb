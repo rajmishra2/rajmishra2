{
 "cells": [
  {
   "cell_type": "code",
   "execution_count": 2,
   "id": "ae893f94-3fde-42f7-b7b2-a49c534b30a2",
   "metadata": {},
   "outputs": [],
   "source": [
    "#Q2\n",
    "# Why *args and **kwargs is used in some functions? Create a function each for *args and **kwargs\n",
    "#to demonstrate their use"
   ]
  },
  {
   "cell_type": "code",
   "execution_count": 3,
   "id": "2559dc9c-52e8-4277-805b-403a75d4fbc6",
   "metadata": {},
   "outputs": [],
   "source": [
    "#args-*args enable us to pass the variable number of non-keyword arguments to functions"
   ]
  },
  {
   "cell_type": "code",
   "execution_count": 4,
   "id": "f760fff8-9f05-447f-8144-f7450c9ca478",
   "metadata": {},
   "outputs": [],
   "source": [
    "def test1(*args,a):\n",
    "    return args,a\n"
   ]
  },
  {
   "cell_type": "code",
   "execution_count": 8,
   "id": "059fa197-661c-43d0-82e0-24211f78e3fd",
   "metadata": {},
   "outputs": [
    {
     "data": {
      "text/plain": [
       "((1, 2), 2)"
      ]
     },
     "execution_count": 8,
     "metadata": {},
     "output_type": "execute_result"
    }
   ],
   "source": [
    "test1(1,2, a=2)"
   ]
  },
  {
   "cell_type": "code",
   "execution_count": 9,
   "id": "c241c58b-39a3-4057-b2ed-9dd3b1507a49",
   "metadata": {},
   "outputs": [],
   "source": [
    "#kwargs kwargs allows us to pass any number of keyword arguments."
   ]
  },
  {
   "cell_type": "code",
   "execution_count": 14,
   "id": "35ee341e-fb27-47cf-8233-43ec059aab9c",
   "metadata": {},
   "outputs": [],
   "source": [
    "def test2(*kwargs):\n",
    "    return kwargs"
   ]
  },
  {
   "cell_type": "code",
   "execution_count": 15,
   "id": "39c3a6be-054f-4bb4-a794-d7d658c4240d",
   "metadata": {},
   "outputs": [
    {
     "data": {
      "text/plain": [
       "(25,)"
      ]
     },
     "execution_count": 15,
     "metadata": {},
     "output_type": "execute_result"
    }
   ],
   "source": [
    "test2(25)"
   ]
  },
  {
   "cell_type": "code",
   "execution_count": 5,
   "id": "00a1eecf-fa86-42b4-a883-8bd77ea89443",
   "metadata": {},
   "outputs": [],
   "source": [
    "#Q1\n",
    "#. Which keyword is used to create a function? \n",
    "#Create a function to return a list of odd numbers in the\n",
    "#range of 1 to 25."
   ]
  },
  {
   "cell_type": "code",
   "execution_count": 7,
   "id": "aa071454-f20f-48ae-a82a-13d68882b885",
   "metadata": {},
   "outputs": [],
   "source": [
    "#def keyword is used to create a fucntion"
   ]
  },
  {
   "cell_type": "code",
   "execution_count": 35,
   "id": "1e042ef3-c466-4e5a-8b63-d7884d7f53b9",
   "metadata": {},
   "outputs": [
    {
     "name": "stdout",
     "output_type": "stream",
     "text": [
      "1 3 5 7 9 11 13 15 17 19 21 23 25 "
     ]
    }
   ],
   "source": [
    "def odd(num1,num2):\n",
    "    if num1>num2:\n",
    "        return\n",
    "    if num1&1:\n",
    "        \n",
    "        print(num1,end=\" \")\n",
    "        return odd(num1+2,num2)\n",
    "    else:\n",
    "        return odd(num1+1,num2)\n",
    "num1=1;num2=25\n",
    "odd(num1,num2)"
   ]
  },
  {
   "cell_type": "code",
   "execution_count": 42,
   "id": "624d73dd-e80a-4965-93bd-1558f4c5d3a3",
   "metadata": {},
   "outputs": [],
   "source": [
    "#Q4   What is a generator function in python?\n",
    "# A generator fuction is used to create in a(fly) fast way without storing in memory that is without itretating"
   ]
  },
  {
   "cell_type": "code",
   "execution_count": 41,
   "id": "990a8635-3dc3-4100-b7dd-273254f13a88",
   "metadata": {},
   "outputs": [
    {
     "name": "stdout",
     "output_type": "stream",
     "text": [
      "0 1 2 3 4 5 6 7 8 9 10 11 12 13 14 15 16 17 18 19 "
     ]
    }
   ],
   "source": [
    "def my_generator():\n",
    "    for i in range(20):\n",
    "        yield i\n",
    "gen=my_generator()\n",
    "for j in gen:\n",
    "    print(j, end=\" \")\n"
   ]
  },
  {
   "cell_type": "code",
   "execution_count": 43,
   "id": "6890d239-44cd-49a0-bc57-c296d7d14de7",
   "metadata": {},
   "outputs": [],
   "source": [
    "#yeild is used to in place of return in generator function it suspends the execution till the next value requested"
   ]
  },
  {
   "cell_type": "code",
   "execution_count": 1,
   "id": "8ccde2e2-0737-43ce-b5e0-c080b2329804",
   "metadata": {},
   "outputs": [],
   "source": [
    "#Q6 Write a python program to print the first 10 Fibonacci numbers using a while loop."
   ]
  },
  {
   "cell_type": "code",
   "execution_count": 4,
   "id": "1cbdeec4-ae7b-4825-801c-6ccd58893e6d",
   "metadata": {},
   "outputs": [],
   "source": [
    "def test_fib():\n",
    "    a,b =0,1\n",
    "\n",
    "    while True:\n",
    "        yield a\n",
    "        a,b=b,a+b\n",
    "        \n"
   ]
  },
  {
   "cell_type": "code",
   "execution_count": 7,
   "id": "8bd60202-de18-41cd-bc91-75b225561ff1",
   "metadata": {},
   "outputs": [],
   "source": [
    "fib=test_fib()"
   ]
  },
  {
   "cell_type": "code",
   "execution_count": 8,
   "id": "c6dfe492-a6da-4b76-83ad-9cb96b41c5fc",
   "metadata": {},
   "outputs": [
    {
     "name": "stdout",
     "output_type": "stream",
     "text": [
      "0\n",
      "1\n",
      "1\n",
      "2\n",
      "3\n",
      "5\n",
      "8\n",
      "13\n",
      "21\n",
      "34\n"
     ]
    }
   ],
   "source": [
    "for i in range(10):\n",
    "    print(next(fib))"
   ]
  },
  {
   "cell_type": "code",
   "execution_count": 29,
   "id": "cb10ba86-3af8-424e-a4c1-14ee8bf891ea",
   "metadata": {},
   "outputs": [
    {
     "name": "stdout",
     "output_type": "stream",
     "text": [
      "[1, 3, 5, 7, 9, 11, 13, 15, 17, 19, 21, 23, 25, 27, 29, 31, 33, 35, 37, 39, 41, 43, 45, 47, 49, 51, 53, 55, 57, 59, 61, 63, 65, 67, 69, 71, 73, 75, 77, 79, 81, 83, 85, 87, 89, 91, 93, 95, 97, 99]\n"
     ]
    }
   ],
   "source": [
    "#Q9\n",
    "\n",
    "odd_list=[ i for i in range(1,101)if i %2!=0]\n",
    "print(odd_list)\n",
    "         "
   ]
  },
  {
   "cell_type": "code",
   "execution_count": 44,
   "id": "25966dbf-5edf-47b7-a376-e9c3c877b456",
   "metadata": {},
   "outputs": [
    {
     "name": "stdout",
     "output_type": "stream",
     "text": [
      "['p', 'w', 's', 'k', 'i', 'l', 's']\n"
     ]
    }
   ],
   "source": [
    "#Q7\n",
    "ittreate_list= [i for i in 'pwskils']\n",
    "print(ittreate_list)\n",
    "\n",
    "\n"
   ]
  },
  {
   "cell_type": "code",
   "execution_count": 47,
   "id": "ea45f566-d455-42ad-a348-836d9db9a40f",
   "metadata": {},
   "outputs": [],
   "source": [
    " #Q3\n",
    "\n",
    "# what is iterator?\n",
    "#Iterators are objects that allow you to traverse through all the elements of a collection and return one element at a time or that can be countable\n",
    "\n",
    "#Iter() method is used to initialize the iterator object and it uses next() method for iteration"
   ]
  },
  {
   "cell_type": "code",
   "execution_count": 48,
   "id": "016f9fb0-c256-4e33-833d-c113b902ecf1",
   "metadata": {},
   "outputs": [],
   "source": [
    "l= [2, 4, 6, 8, 10, 12, 14,16,18,20]"
   ]
  },
  {
   "cell_type": "code",
   "execution_count": 56,
   "id": "cb7c2f96-84ba-407b-9017-2697bdc0ea9b",
   "metadata": {},
   "outputs": [
    {
     "name": "stdout",
     "output_type": "stream",
     "text": [
      "2\n",
      "4\n",
      "6\n",
      "8\n",
      "10\n"
     ]
    }
   ],
   "source": [
    "def gen(l):\n",
    "    for i in l:\n",
    "        yield(i)\n",
    "ob=gen(l)\n",
    "print(next(ob))\n",
    "print(next(ob))\n",
    "print(next(ob))\n",
    "print(next(ob))\n",
    "print(next(ob))\n"
   ]
  },
  {
   "cell_type": "code",
   "execution_count": 63,
   "id": "5cdb90d4-b023-4ad0-91b3-0f7cb37f909b",
   "metadata": {},
   "outputs": [
    {
     "name": "stdin",
     "output_type": "stream",
     "text": [
      "enter number 121\n"
     ]
    },
    {
     "name": "stdout",
     "output_type": "stream",
     "text": [
      "121\n",
      "number is palindrome\n"
     ]
    }
   ],
   "source": [
    "# python program to check whether a given number is Palindrome or not using a while loop\n",
    "\n",
    "\n",
    "\n",
    "n=int(input('enter number'))\n",
    "temp=n\n",
    "reverse = 0\n",
    "while (n>0):\n",
    "    dig=n%10\n",
    "    reverse =reverse*10+dig\n",
    "    n=n//10\n",
    "print(reverse)\n",
    "if temp==reverse:\n",
    "    print('number is palindrome')\n",
    "else:\n",
    "    print('number is not palindrome')"
   ]
  },
  {
   "cell_type": "code",
   "execution_count": 70,
   "id": "243f32e1-9dea-4d3a-a154-b3dc6d7c1742",
   "metadata": {},
   "outputs": [
    {
     "name": "stdout",
     "output_type": "stream",
     "text": [
      "[1, 3, 5, 7, 9, 11, 13, 15, 17, 19, 21, 23, 25, 27, 29, 31, 33, 35, 37, 39, 41, 43, 45, 47, 49, 51, 53, 55, 57, 59, 61, 63, 65, 67, 69, 71, 73, 75, 77, 79, 81, 83, 85, 87, 89, 91, 93, 95, 97, 99, 101, 103, 105, 107, 109, 111, 113, 115, 117, 119, 121, 123, 125, 127, 129, 131, 133, 135, 137, 139, 141, 143, 145, 147, 149, 151, 153, 155, 157, 159, 161, 163, 165, 167, 169, 171, 173, 175, 177, 179, 181, 183, 185, 187, 189, 191, 193, 195, 197, 199, 201, 203, 205, 207, 209, 211, 213, 215, 217, 219, 221, 223, 225, 227, 229, 231, 233, 235, 237, 239, 241, 243, 245, 247, 249, 251, 253, 255, 257, 259, 261, 263, 265, 267, 269, 271, 273, 275, 277, 279, 281, 283, 285, 287, 289, 291, 293, 295, 297, 299, 301, 303, 305, 307, 309, 311, 313, 315, 317, 319, 321, 323, 325, 327, 329, 331, 333, 335, 337, 339, 341, 343, 345, 347, 349, 351, 353, 355, 357, 359, 361, 363, 365, 367, 369, 371, 373, 375, 377, 379, 381, 383, 385, 387, 389, 391, 393, 395, 397, 399, 401, 403, 405, 407, 409, 411, 413, 415, 417, 419, 421, 423, 425, 427, 429, 431, 433, 435, 437, 439, 441, 443, 445, 447, 449, 451, 453, 455, 457, 459, 461, 463, 465, 467, 469, 471, 473, 475, 477, 479, 481, 483, 485, 487, 489, 491, 493, 495, 497, 499, 501, 503, 505, 507, 509, 511, 513, 515, 517, 519, 521, 523, 525, 527, 529, 531, 533, 535, 537, 539, 541, 543, 545, 547, 549, 551, 553, 555, 557, 559, 561, 563, 565, 567, 569, 571, 573, 575, 577, 579, 581, 583, 585, 587, 589, 591, 593, 595, 597, 599, 601, 603, 605, 607, 609, 611, 613, 615, 617, 619, 621, 623, 625, 627, 629, 631, 633, 635, 637, 639, 641, 643, 645, 647, 649, 651, 653, 655, 657, 659, 661, 663, 665, 667, 669, 671, 673, 675, 677, 679, 681, 683, 685, 687, 689, 691, 693, 695, 697, 699, 701, 703, 705, 707, 709, 711, 713, 715, 717, 719, 721, 723, 725, 727, 729, 731, 733, 735, 737, 739, 741, 743, 745, 747, 749, 751, 753, 755, 757, 759, 761, 763, 765, 767, 769, 771, 773, 775, 777, 779, 781, 783, 785, 787, 789, 791, 793, 795, 797, 799, 801, 803, 805, 807, 809, 811, 813, 815, 817, 819, 821, 823, 825, 827, 829, 831, 833, 835, 837, 839, 841, 843, 845, 847, 849, 851, 853, 855, 857, 859, 861, 863, 865, 867, 869, 871, 873, 875, 877, 879, 881, 883, 885, 887, 889, 891, 893, 895, 897, 899, 901, 903, 905, 907, 909, 911, 913, 915, 917, 919, 921, 923, 925, 927, 929, 931, 933, 935, 937, 939, 941, 943, 945, 947, 949, 951, 953, 955, 957, 959, 961, 963, 965, 967, 969, 971, 973, 975, 977, 979, 981, 983, 985, 987, 989, 991, 993, 995, 997, 999]\n"
     ]
    }
   ],
   "source": [
    "prime_num=[i for i in range(1000) if i%2!=0]\n",
    "print(prime_num)"
   ]
  },
  {
   "cell_type": "code",
   "execution_count": 7,
   "id": "cec4fcb1-dd43-4dc3-84c1-d328cd9869c7",
   "metadata": {},
   "outputs": [
    {
     "name": "stdin",
     "output_type": "stream",
     "text": [
      "Input the number of prime numbers you want to generate?  20\n"
     ]
    },
    {
     "name": "stdout",
     "output_type": "stream",
     "text": [
      "First 20 Prime numbers:\n",
      "2\n",
      "3\n",
      "5\n",
      "7\n",
      "11\n",
      "13\n",
      "17\n",
      "19\n",
      "23\n",
      "29\n",
      "31\n",
      "37\n",
      "41\n",
      "43\n",
      "47\n",
      "53\n",
      "59\n",
      "61\n",
      "67\n",
      "71\n"
     ]
    }
   ],
   "source": [
    "def is_prime(n):\n",
    "    if n <= 1:\n",
    "        return False\n",
    "    for i in range(2, int(n**0.5) + 1):\n",
    "        if n % i == 0:\n",
    "            return False\n",
    "    return True\n",
    "\n",
    "def prime_nums_generator():\n",
    "    n = 2\n",
    "    while True:\n",
    "        if is_prime(n):\n",
    "            yield n\n",
    "        n += 1\n",
    "\n",
    "primes = prime_nums_generator()\n",
    "\n",
    "n = int(input(\"Input the number of prime numbers you want to generate? \"))\n",
    "\n",
    "print(\"First\",n,\"Prime numbers:\")\n",
    "for _ in range(n):\n",
    "    print(next(primes))\n"
   ]
  },
  {
   "cell_type": "code",
   "execution_count": null,
   "id": "ab9a3e3a-173f-49f5-a47e-abfaff0d6919",
   "metadata": {},
   "outputs": [],
   "source": []
  }
 ],
 "metadata": {
  "kernelspec": {
   "display_name": "Python 3 (ipykernel)",
   "language": "python",
   "name": "python3"
  },
  "language_info": {
   "codemirror_mode": {
    "name": "ipython",
    "version": 3
   },
   "file_extension": ".py",
   "mimetype": "text/x-python",
   "name": "python",
   "nbconvert_exporter": "python",
   "pygments_lexer": "ipython3",
   "version": "3.10.8"
  }
 },
 "nbformat": 4,
 "nbformat_minor": 5
}
